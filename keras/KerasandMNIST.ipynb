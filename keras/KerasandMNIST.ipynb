{
 "cells": [
  {
   "cell_type": "code",
   "execution_count": 1,
   "metadata": {},
   "outputs": [
    {
     "name": "stderr",
     "output_type": "stream",
     "text": [
      "Using TensorFlow backend.\n"
     ]
    }
   ],
   "source": [
    "from keras.datasets import mnist"
   ]
  },
  {
   "cell_type": "code",
   "execution_count": 2,
   "metadata": {},
   "outputs": [],
   "source": [
    "(X_train,y_train), (X_test,y_test) = mnist.load_data()"
   ]
  },
  {
   "cell_type": "code",
   "execution_count": 4,
   "metadata": {},
   "outputs": [],
   "source": [
    "import matplotlib.pyplot as plt\n",
    "%matplotlib inline\n",
    "import matplotlib.cm as cm\n",
    "import numpy as np"
   ]
  },
  {
   "cell_type": "code",
   "execution_count": 6,
   "metadata": {},
   "outputs": [
    {
     "data": {
      "image/png": "[encoded data removed]",
      "text/plain": [
       "<matplotlib.figure.Figure at 0x7f5e8b66c5c0>"
      ]
     },
     "metadata": {},
     "output_type": "display_data"
    }
   ],
   "source": [
    "#plot first six training images\n",
    "fig = plt.figure(figsize=(20,20))\n",
    "for i in range(6): \n",
    "    ax = fig.add_subplot(1,6,i+1,xticks=[],yticks=[])\n",
    "    ax.imshow(X_train[i], cmap='gray') \n",
    "    ax.set_title(str(y_train[i]))"
   ]
  },
  {
   "cell_type": "code",
   "execution_count": 7,
   "metadata": {},
   "outputs": [],
   "source": [
    "#rescale the images by dividing every pixel in every image by 255\n",
    "#rescale [0,255] --> [0,1]\n",
    "X_train = X_train.astype('float32')/255\n",
    "X_test = X_test.astype('float32')/255"
   ]
  },
  {
   "cell_type": "code",
   "execution_count": 8,
   "metadata": {},
   "outputs": [
    {
     "name": "stdout",
     "output_type": "stream",
     "text": [
      "Integer valued labels:\n",
      "[5 0 4 1 9 2 1 3 1 4]\n",
      "One hot labels\n",
      "[[ 0.  0.  0.  0.  0.  1.  0.  0.  0.  0.]\n",
      " [ 1.  0.  0.  0.  0.  0.  0.  0.  0.  0.]\n",
      " [ 0.  0.  0.  0.  1.  0.  0.  0.  0.  0.]\n",
      " [ 0.  1.  0.  0.  0.  0.  0.  0.  0.  0.]\n",
      " [ 0.  0.  0.  0.  0.  0.  0.  0.  0.  1.]\n",
      " [ 0.  0.  1.  0.  0.  0.  0.  0.  0.  0.]\n",
      " [ 0.  1.  0.  0.  0.  0.  0.  0.  0.  0.]\n",
      " [ 0.  0.  0.  1.  0.  0.  0.  0.  0.  0.]\n",
      " [ 0.  1.  0.  0.  0.  0.  0.  0.  0.  0.]\n",
      " [ 0.  0.  0.  0.  1.  0.  0.  0.  0.  0.]]\n"
     ]
    }
   ],
   "source": [
    "#encode categorical integer labels using a one hot scheme\n",
    "from keras.utils import np_utils\n",
    "\n",
    "#print first ten (integer valued) training labels\n",
    "print('Integer valued labels:')\n",
    "print(y_train[:10])\n",
    "\n",
    "#one hot encode the labels\n",
    "y_train = np_utils.to_categorical(y_train,10)\n",
    "y_test = np_utils.to_categorical(y_test,10)\n",
    "\n",
    "#print the first ten (one hot) training labels\n",
    "print('One hot labels')\n",
    "print(y_train[:10])"
   ]
  },
  {
   "cell_type": "code",
   "execution_count": 13,
   "metadata": {},
   "outputs": [],
   "source": [
    "from keras.models import Sequential\n",
    "from keras.layers import Dense,Flatten,Dropout"
   ]
  },
  {
   "cell_type": "code",
   "execution_count": 14,
   "metadata": {},
   "outputs": [],
   "source": [
    "#define the model\n",
    "model = Sequential()\n",
    "model.add(Flatten(input_shape=X_train.shape[1:]))\n",
    "model.add(Dense(512, activation='relu'))\n",
    "model.add(Dropout(0.2))\n",
    "model.add(Dense(512, activation='relu'))\n",
    "model.add(Dropout(0.2))\n",
    "model.add(Dense(10,activation='softmax'))"
   ]
  },
  {
   "cell_type": "code",
   "execution_count": 15,
   "metadata": {},
   "outputs": [
    {
     "name": "stdout",
     "output_type": "stream",
     "text": [
      "_________________________________________________________________\n",
      "Layer (type)                 Output Shape              Param #   \n",
      "=================================================================\n",
      "flatten_3 (Flatten)          (None, 784)               0         \n",
      "_________________________________________________________________\n",
      "dense_5 (Dense)              (None, 512)               401920    \n",
      "_________________________________________________________________\n",
      "dropout_1 (Dropout)          (None, 512)               0         \n",
      "_________________________________________________________________\n",
      "dense_6 (Dense)              (None, 512)               262656    \n",
      "_________________________________________________________________\n",
      "dropout_2 (Dropout)          (None, 512)               0         \n",
      "_________________________________________________________________\n",
      "dense_7 (Dense)              (None, 10)                5130      \n",
      "=================================================================\n",
      "Total params: 669,706.0\n",
      "Trainable params: 669,706.0\n",
      "Non-trainable params: 0.0\n",
      "_________________________________________________________________\n"
     ]
    }
   ],
   "source": [
    "#summarize the model\n",
    "model.summary()"
   ]
  },
  {
   "cell_type": "code",
   "execution_count": 16,
   "metadata": {},
   "outputs": [],
   "source": [
    "#compile the model\n",
    "model.compile(loss='categorical_crossentropy',optimizer='rmsprop',metrics = ['accuracy'])"
   ]
  },
  {
   "cell_type": "code",
   "execution_count": 18,
   "metadata": {},
   "outputs": [
    {
     "name": "stdout",
     "output_type": "stream",
     "text": [
      "Test accuracy: 7.9900%\n"
     ]
    }
   ],
   "source": [
    "#evaluate the test accuracy\n",
    "score = model.evaluate(X_test, y_test, verbose=0)\n",
    "accuracy = 100*score[1]\n",
    "\n",
    "print(\"Test accuracy: %.4f%%\" % accuracy)"
   ]
  },
  {
   "cell_type": "code",
   "execution_count": 19,
   "metadata": {},
   "outputs": [
    {
     "name": "stdout",
     "output_type": "stream",
     "text": [
      "Train on 48000 samples, validate on 12000 samples\n",
      "Epoch 1/10\n",
      "47744/48000 [============================>.] - ETA: 0s - loss: 0.2734 - acc: 0.9165Epoch 00000: val_loss improved from inf to 0.11391, saving model to mnist.model.best.hdf5\n",
      "48000/48000 [==============================] - 8s - loss: 0.2727 - acc: 0.9166 - val_loss: 0.1139 - val_acc: 0.9641\n",
      "Epoch 2/10\n",
      "47744/48000 [============================>.] - ETA: 0s - loss: 0.1140 - acc: 0.9659Epoch 00001: val_loss improved from 0.11391 to 0.10519, saving model to mnist.model.best.hdf5\n",
      "48000/48000 [==============================] - 8s - loss: 0.1139 - acc: 0.9659 - val_loss: 0.1052 - val_acc: 0.9701\n",
      "Epoch 3/10\n",
      "47744/48000 [============================>.] - ETA: 0s - loss: 0.0809 - acc: 0.9750Epoch 00002: val_loss did not improve\n",
      "48000/48000 [==============================] - 8s - loss: 0.0809 - acc: 0.9750 - val_loss: 0.1149 - val_acc: 0.9678\n",
      "Epoch 4/10\n",
      "47744/48000 [============================>.] - ETA: 0s - loss: 0.0652 - acc: 0.9798Epoch 00003: val_loss improved from 0.10519 to 0.08612, saving model to mnist.model.best.hdf5\n",
      "48000/48000 [==============================] - 8s - loss: 0.0651 - acc: 0.9797 - val_loss: 0.0861 - val_acc: 0.9771\n",
      "Epoch 5/10\n",
      "47744/48000 [============================>.] - ETA: 0s - loss: 0.0534 - acc: 0.9843Epoch 00004: val_loss did not improve\n",
      "48000/48000 [==============================] - 8s - loss: 0.0534 - acc: 0.9843 - val_loss: 0.0868 - val_acc: 0.9792\n",
      "Epoch 6/10\n",
      "47744/48000 [============================>.] - ETA: 0s - loss: 0.0460 - acc: 0.9863Epoch 00005: val_loss did not improve\n",
      "48000/48000 [==============================] - 8s - loss: 0.0458 - acc: 0.9864 - val_loss: 0.0992 - val_acc: 0.9786\n",
      "Epoch 7/10\n",
      "47744/48000 [============================>.] - ETA: 0s - loss: 0.0386 - acc: 0.9881Epoch 00006: val_loss did not improve\n",
      "48000/48000 [==============================] - 8s - loss: 0.0386 - acc: 0.9881 - val_loss: 0.1017 - val_acc: 0.9769\n",
      "Epoch 8/10\n",
      "47744/48000 [============================>.] - ETA: 0s - loss: 0.0315 - acc: 0.9906Epoch 00007: val_loss did not improve\n",
      "48000/48000 [==============================] - 8s - loss: 0.0315 - acc: 0.9905 - val_loss: 0.1045 - val_acc: 0.9783\n",
      "Epoch 9/10\n",
      "47744/48000 [============================>.] - ETA: 0s - loss: 0.0305 - acc: 0.9912Epoch 00008: val_loss did not improve\n",
      "48000/48000 [==============================] - 8s - loss: 0.0303 - acc: 0.9912 - val_loss: 0.1037 - val_acc: 0.9793\n",
      "Epoch 10/10\n",
      "47744/48000 [============================>.] - ETA: 0s - loss: 0.0269 - acc: 0.9917Epoch 00009: val_loss did not improve\n",
      "48000/48000 [==============================] - 8s - loss: 0.0268 - acc: 0.9918 - val_loss: 0.1066 - val_acc: 0.9790\n"
     ]
    }
   ],
   "source": [
    "#train the model\n",
    "from keras.callbacks import ModelCheckpoint\n",
    "\n",
    "checkpointer = ModelCheckpoint(filepath='mnist.model.best.hdf5', verbose=1,save_best_only=True)\n",
    "\n",
    "hist = model.fit(X_train, y_train, batch_size=128,epochs=10,validation_split=0.2,callbacks=[checkpointer], verbose=1, shuffle=True)"
   ]
  },
  {
   "cell_type": "code",
   "execution_count": 20,
   "metadata": {},
   "outputs": [
    {
     "name": "stdout",
     "output_type": "stream",
     "text": [
      "Test accuracy: 98.0700%\n"
     ]
    }
   ],
   "source": [
    "#evaluate the test accuracy\n",
    "score = model.evaluate(X_test, y_test, verbose=0)\n",
    "accuracy = 100*score[1]\n",
    "\n",
    "print(\"Test accuracy: %.4f%%\" % accuracy)"
   ]
  },
  {
   "cell_type": "code",
   "execution_count": null,
   "metadata": {},
   "outputs": [],
   "source": []
  }
 ],
 "metadata": {
  "kernelspec": {
   "display_name": "Python [conda root]",
   "language": "python",
   "name": "conda-root-py"
  },
  "language_info": {
   "codemirror_mode": {
    "name": "ipython",
    "version": 3
   },
   "file_extension": ".py",
   "mimetype": "text/x-python",
   "name": "python",
   "nbconvert_exporter": "python",
   "pygments_lexer": "ipython3",
   "version": "3.6.3"
  }
 },
 "nbformat": 4,
 "nbformat_minor": 2
}
