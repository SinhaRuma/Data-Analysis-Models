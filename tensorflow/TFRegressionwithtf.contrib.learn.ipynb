{
 "cells": [
  {
   "cell_type": "code",
   "execution_count": 1,
   "metadata": {},
   "outputs": [
    {
     "name": "stderr",
     "output_type": "stream",
     "text": [
      "C:\\Users\\ruma\\Anaconda3\\lib\\site-packages\\h5py\\__init__.py:36: FutureWarning: Conversion of the second argument of issubdtype from `float` to `np.floating` is deprecated. In future, it will be treated as `np.float64 == np.dtype(float).type`.\n",
      "  from ._conv import register_converters as _register_converters\n"
     ]
    }
   ],
   "source": [
    "# importing the dependencies \n",
    "import tensorflow as tf \n",
    "import numpy as np "
   ]
  },
  {
   "cell_type": "code",
   "execution_count": 2,
   "metadata": {},
   "outputs": [],
   "source": [
    "# declaring list of features \n",
    "features = [tf.contrib.layers.real_valued_column(\"X\")] "
   ]
  },
  {
   "cell_type": "code",
   "execution_count": 3,
   "metadata": {},
   "outputs": [
    {
     "name": "stdout",
     "output_type": "stream",
     "text": [
      "WARNING:tensorflow:From C:\\Users\\ruma\\Anaconda3\\lib\\site-packages\\tensorflow\\contrib\\learn\\python\\learn\\estimators\\linear.py:740: regression_head (from tensorflow.contrib.learn.python.learn.estimators.head) is deprecated and will be removed in a future version.\n",
      "Instructions for updating:\n",
      "Please switch to tf.contrib.estimator.*_head.\n",
      "WARNING:tensorflow:From C:\\Users\\ruma\\Anaconda3\\lib\\site-packages\\tensorflow\\contrib\\learn\\python\\learn\\estimators\\estimator.py:1179: BaseEstimator.__init__ (from tensorflow.contrib.learn.python.learn.estimators.estimator) is deprecated and will be removed in a future version.\n",
      "Instructions for updating:\n",
      "Please replace uses of any Estimator from tf.contrib.learn with an Estimator from tf.estimator.*\n",
      "WARNING:tensorflow:From C:\\Users\\ruma\\Anaconda3\\lib\\site-packages\\tensorflow\\contrib\\learn\\python\\learn\\estimators\\estimator.py:427: RunConfig.__init__ (from tensorflow.contrib.learn.python.learn.estimators.run_config) is deprecated and will be removed in a future version.\n",
      "Instructions for updating:\n",
      "When switching to tf.estimator.Estimator, use tf.estimator.RunConfig instead.\n",
      "INFO:tensorflow:Using default config.\n",
      "WARNING:tensorflow:Using temporary folder as model directory: C:\\Users\\ruma\\AppData\\Local\\Temp\\tmp8d6kizei\n",
      "INFO:tensorflow:Using config: {'_task_type': None, '_task_id': 0, '_cluster_spec': <tensorflow.python.training.server_lib.ClusterSpec object at 0x0000018804E90588>, '_master': '', '_num_ps_replicas': 0, '_num_worker_replicas': 0, '_environment': 'local', '_is_chief': True, '_evaluation_master': '', '_train_distribute': None, '_device_fn': None, '_tf_config': gpu_options {\n",
      "  per_process_gpu_memory_fraction: 1\n",
      "}\n",
      ", '_tf_random_seed': None, '_save_summary_steps': 100, '_save_checkpoints_secs': 600, '_log_step_count_steps': 100, '_session_config': None, '_save_checkpoints_steps': None, '_keep_checkpoint_max': 5, '_keep_checkpoint_every_n_hours': 10000, '_model_dir': 'C:\\\\Users\\\\ruma\\\\AppData\\\\Local\\\\Temp\\\\tmp8d6kizei'}\n"
     ]
    }
   ],
   "source": [
    "# creating a linear regression estimator \n",
    "estimator = tf.contrib.learn.LinearRegressor(feature_columns=features) "
   ]
  },
  {
   "cell_type": "code",
   "execution_count": 4,
   "metadata": {},
   "outputs": [],
   "source": [
    "# training and test data \n",
    "train_X = np.asarray([3.3,4.4,5.5,6.71,6.93,4.168,9.779,6.182,7.59,2.167, \n",
    "                         7.042,10.791,5.313,7.997,5.654,9.27,3.1]) \n",
    "train_y = np.asarray([1.7,2.76,2.09,3.19,1.694,1.573,3.366,2.596,2.53,1.221, \n",
    "                         2.827,3.465,1.65,2.904,2.42,2.94,1.3]) \n",
    "test_X = np.asarray([6.83, 4.668, 8.9, 7.91, 5.7, 8.7, 3.1, 2.1]) \n",
    "test_y = np.asarray([1.84, 2.273, 3.2, 2.831, 2.92, 3.24, 1.35, 1.03]) "
   ]
  },
  {
   "cell_type": "code",
   "execution_count": 5,
   "metadata": {},
   "outputs": [
    {
     "name": "stdout",
     "output_type": "stream",
     "text": [
      "WARNING:tensorflow:From <ipython-input-5-0c17deb66465>:3: numpy_input_fn (from tensorflow.contrib.learn.python.learn.learn_io.numpy_io) is deprecated and will be removed in a future version.\n",
      "Instructions for updating:\n",
      "Use tf.estimator.inputs.numpy_input_fn.\n"
     ]
    }
   ],
   "source": [
    "# function to feed dict of numpy arrays into the model for training \n",
    "input_fn = tf.contrib.learn.io.numpy_input_fn({\"X\":train_X}, train_y,  \n",
    "                                              batch_size=4, num_epochs=2000)"
   ]
  },
  {
   "cell_type": "code",
   "execution_count": 6,
   "metadata": {},
   "outputs": [],
   "source": [
    "# function to feed dict of numpy arrays into the model for testing \n",
    "test_input_fn = tf.contrib.learn.io.numpy_input_fn({\"X\":test_X}, test_y) \n",
    "  "
   ]
  },
  {
   "cell_type": "code",
   "execution_count": 7,
   "metadata": {},
   "outputs": [
    {
     "name": "stdout",
     "output_type": "stream",
     "text": [
      "WARNING:tensorflow:From C:\\Users\\ruma\\Anaconda3\\lib\\site-packages\\tensorflow\\contrib\\learn\\python\\learn\\estimators\\head.py:566: calling expand_dims (from tensorflow.python.ops.array_ops) with dim is deprecated and will be removed in a future version.\n",
      "Instructions for updating:\n",
      "Use the `axis` argument instead\n",
      "WARNING:tensorflow:From C:\\Users\\ruma\\Anaconda3\\lib\\site-packages\\tensorflow\\contrib\\learn\\python\\learn\\estimators\\head.py:678: ModelFnOps.__new__ (from tensorflow.contrib.learn.python.learn.estimators.model_fn) is deprecated and will be removed in a future version.\n",
      "Instructions for updating:\n",
      "When switching to tf.estimator.Estimator, use tf.estimator.EstimatorSpec. You can use the `estimator_spec` method to create an equivalent one.\n",
      "INFO:tensorflow:Create CheckpointSaverHook.\n",
      "INFO:tensorflow:Graph was finalized.\n",
      "INFO:tensorflow:Running local_init_op.\n",
      "INFO:tensorflow:Done running local_init_op.\n",
      "INFO:tensorflow:Saving checkpoints for 0 into C:\\Users\\ruma\\AppData\\Local\\Temp\\tmp8d6kizei\\model.ckpt.\n",
      "INFO:tensorflow:loss = 4.9158063, step = 1\n",
      "INFO:tensorflow:global_step/sec: 349.722\n",
      "INFO:tensorflow:loss = 0.2314852, step = 101 (0.287 sec)\n",
      "INFO:tensorflow:global_step/sec: 663.255\n",
      "INFO:tensorflow:loss = 0.16492397, step = 201 (0.153 sec)\n",
      "INFO:tensorflow:global_step/sec: 774.536\n",
      "INFO:tensorflow:loss = 0.01643444, step = 301 (0.130 sec)\n",
      "INFO:tensorflow:global_step/sec: 719.898\n",
      "INFO:tensorflow:loss = 0.12442807, step = 401 (0.135 sec)\n",
      "INFO:tensorflow:global_step/sec: 729.376\n",
      "INFO:tensorflow:loss = 0.28545982, step = 501 (0.138 sec)\n",
      "INFO:tensorflow:global_step/sec: 741.835\n",
      "INFO:tensorflow:loss = 0.21171962, step = 601 (0.134 sec)\n",
      "INFO:tensorflow:global_step/sec: 818.479\n",
      "INFO:tensorflow:loss = 0.21140984, step = 701 (0.119 sec)\n",
      "INFO:tensorflow:global_step/sec: 797.36\n",
      "INFO:tensorflow:loss = 0.12736326, step = 801 (0.131 sec)\n",
      "INFO:tensorflow:global_step/sec: 841.284\n",
      "INFO:tensorflow:loss = 0.2355207, step = 901 (0.118 sec)\n",
      "INFO:tensorflow:global_step/sec: 607.388\n",
      "INFO:tensorflow:loss = 0.2837596, step = 1001 (0.164 sec)\n",
      "INFO:tensorflow:global_step/sec: 771.99\n",
      "INFO:tensorflow:loss = 0.3382418, step = 1101 (0.128 sec)\n",
      "INFO:tensorflow:global_step/sec: 767.982\n",
      "INFO:tensorflow:loss = 0.24372065, step = 1201 (0.132 sec)\n",
      "INFO:tensorflow:global_step/sec: 739.565\n",
      "INFO:tensorflow:loss = 0.26163608, step = 1301 (0.135 sec)\n",
      "INFO:tensorflow:global_step/sec: 736.695\n",
      "INFO:tensorflow:loss = 0.04423886, step = 1401 (0.131 sec)\n",
      "INFO:tensorflow:global_step/sec: 763.744\n",
      "INFO:tensorflow:loss = 0.01748955, step = 1501 (0.136 sec)\n",
      "INFO:tensorflow:global_step/sec: 776.604\n",
      "INFO:tensorflow:loss = 0.042214178, step = 1601 (0.126 sec)\n",
      "INFO:tensorflow:global_step/sec: 837.446\n",
      "INFO:tensorflow:loss = 0.31768572, step = 1701 (0.124 sec)\n",
      "INFO:tensorflow:global_step/sec: 772.228\n",
      "INFO:tensorflow:loss = 0.07202935, step = 1801 (0.129 sec)\n",
      "INFO:tensorflow:global_step/sec: 689.412\n",
      "INFO:tensorflow:loss = 0.19906689, step = 1901 (0.142 sec)\n",
      "INFO:tensorflow:global_step/sec: 817.393\n",
      "INFO:tensorflow:loss = 0.07807014, step = 2001 (0.124 sec)\n",
      "INFO:tensorflow:global_step/sec: 729.57\n",
      "INFO:tensorflow:loss = 0.40766215, step = 2101 (0.134 sec)\n",
      "INFO:tensorflow:global_step/sec: 755.722\n",
      "INFO:tensorflow:loss = 0.036834717, step = 2201 (0.137 sec)\n",
      "INFO:tensorflow:global_step/sec: 685.539\n",
      "INFO:tensorflow:loss = 0.081009835, step = 2301 (0.144 sec)\n",
      "INFO:tensorflow:global_step/sec: 707.674\n",
      "INFO:tensorflow:loss = 0.008781315, step = 2401 (0.140 sec)\n",
      "INFO:tensorflow:global_step/sec: 706.428\n",
      "INFO:tensorflow:loss = 0.021919545, step = 2501 (0.144 sec)\n",
      "INFO:tensorflow:global_step/sec: 783.038\n",
      "INFO:tensorflow:loss = 0.2585984, step = 2601 (0.127 sec)\n",
      "INFO:tensorflow:global_step/sec: 761.102\n",
      "INFO:tensorflow:loss = 0.06536326, step = 2701 (0.132 sec)\n",
      "INFO:tensorflow:global_step/sec: 735.598\n",
      "INFO:tensorflow:loss = 0.1749975, step = 2801 (0.136 sec)\n",
      "INFO:tensorflow:global_step/sec: 767.32\n",
      "INFO:tensorflow:loss = 0.15711242, step = 2901 (0.130 sec)\n",
      "INFO:tensorflow:global_step/sec: 445.209\n",
      "INFO:tensorflow:loss = 0.20622386, step = 3001 (0.223 sec)\n",
      "INFO:tensorflow:global_step/sec: 605.089\n",
      "INFO:tensorflow:loss = 0.038703322, step = 3101 (0.165 sec)\n",
      "INFO:tensorflow:global_step/sec: 681.475\n",
      "INFO:tensorflow:loss = 0.041044764, step = 3201 (0.149 sec)\n",
      "INFO:tensorflow:global_step/sec: 789.437\n",
      "INFO:tensorflow:loss = 0.08675831, step = 3301 (0.127 sec)\n",
      "INFO:tensorflow:global_step/sec: 692.072\n",
      "INFO:tensorflow:loss = 0.3965863, step = 3401 (0.144 sec)\n",
      "INFO:tensorflow:global_step/sec: 685.072\n",
      "INFO:tensorflow:loss = 0.039458524, step = 3501 (0.145 sec)\n",
      "INFO:tensorflow:global_step/sec: 675.544\n",
      "INFO:tensorflow:loss = 0.060952973, step = 3601 (0.151 sec)\n",
      "INFO:tensorflow:global_step/sec: 789.638\n",
      "INFO:tensorflow:loss = 0.19319995, step = 3701 (0.124 sec)\n",
      "INFO:tensorflow:global_step/sec: 711.701\n",
      "INFO:tensorflow:loss = 0.389373, step = 3801 (0.142 sec)\n",
      "INFO:tensorflow:global_step/sec: 754.872\n",
      "INFO:tensorflow:loss = 0.013240771, step = 3901 (0.131 sec)\n",
      "INFO:tensorflow:global_step/sec: 764.073\n",
      "INFO:tensorflow:loss = 0.04136076, step = 4001 (0.132 sec)\n",
      "INFO:tensorflow:global_step/sec: 724.679\n",
      "INFO:tensorflow:loss = 0.008029912, step = 4101 (0.138 sec)\n",
      "INFO:tensorflow:global_step/sec: 832.525\n",
      "INFO:tensorflow:loss = 0.0983008, step = 4201 (0.122 sec)\n",
      "INFO:tensorflow:global_step/sec: 781.295\n",
      "INFO:tensorflow:loss = 0.1409517, step = 4301 (0.123 sec)\n",
      "INFO:tensorflow:global_step/sec: 272.336\n",
      "INFO:tensorflow:loss = 0.11256658, step = 4401 (0.368 sec)\n",
      "INFO:tensorflow:global_step/sec: 700.445\n",
      "INFO:tensorflow:loss = 0.20128794, step = 4501 (0.143 sec)\n",
      "INFO:tensorflow:global_step/sec: 706.542\n",
      "INFO:tensorflow:loss = 0.09372274, step = 4601 (0.143 sec)\n",
      "INFO:tensorflow:global_step/sec: 719.703\n",
      "INFO:tensorflow:loss = 0.041474577, step = 4701 (0.141 sec)\n",
      "INFO:tensorflow:global_step/sec: 744.308\n",
      "INFO:tensorflow:loss = 0.07256725, step = 4801 (0.130 sec)\n",
      "INFO:tensorflow:global_step/sec: 795.655\n",
      "INFO:tensorflow:loss = 0.22713143, step = 4901 (0.127 sec)\n",
      "INFO:tensorflow:global_step/sec: 715.607\n",
      "INFO:tensorflow:loss = 0.1933665, step = 5001 (0.140 sec)\n",
      "INFO:tensorflow:global_step/sec: 788.97\n",
      "INFO:tensorflow:loss = 0.21542868, step = 5101 (0.130 sec)\n",
      "INFO:tensorflow:global_step/sec: 742.808\n",
      "INFO:tensorflow:loss = 0.2829343, step = 5201 (0.134 sec)\n",
      "INFO:tensorflow:global_step/sec: 715.626\n",
      "INFO:tensorflow:loss = 0.35344058, step = 5301 (0.137 sec)\n",
      "INFO:tensorflow:global_step/sec: 786.534\n",
      "INFO:tensorflow:loss = 0.039643124, step = 5401 (0.127 sec)\n",
      "INFO:tensorflow:global_step/sec: 788.199\n",
      "INFO:tensorflow:loss = 0.032664184, step = 5501 (0.126 sec)\n",
      "INFO:tensorflow:global_step/sec: 725.637\n",
      "INFO:tensorflow:loss = 0.039008327, step = 5601 (0.137 sec)\n",
      "INFO:tensorflow:global_step/sec: 833.46\n",
      "INFO:tensorflow:loss = 0.17712808, step = 5701 (0.122 sec)\n",
      "INFO:tensorflow:global_step/sec: 776.959\n",
      "INFO:tensorflow:loss = 0.006735461, step = 5801 (0.127 sec)\n",
      "INFO:tensorflow:global_step/sec: 758.933\n",
      "INFO:tensorflow:loss = 0.5419232, step = 5901 (0.134 sec)\n",
      "INFO:tensorflow:global_step/sec: 762.701\n",
      "INFO:tensorflow:loss = 0.18379746, step = 6001 (0.129 sec)\n",
      "INFO:tensorflow:global_step/sec: 669.327\n",
      "INFO:tensorflow:loss = 0.33926207, step = 6101 (0.150 sec)\n",
      "INFO:tensorflow:global_step/sec: 739.512\n",
      "INFO:tensorflow:loss = 0.38561583, step = 6201 (0.134 sec)\n",
      "INFO:tensorflow:global_step/sec: 766.151\n",
      "INFO:tensorflow:loss = 0.12028823, step = 6301 (0.133 sec)\n",
      "INFO:tensorflow:global_step/sec: 734.033\n",
      "INFO:tensorflow:loss = 0.38716874, step = 6401 (0.136 sec)\n",
      "INFO:tensorflow:global_step/sec: 760.445\n",
      "INFO:tensorflow:loss = 0.21307889, step = 6501 (0.130 sec)\n",
      "INFO:tensorflow:global_step/sec: 776.297\n",
      "INFO:tensorflow:loss = 0.06565492, step = 6601 (0.130 sec)\n",
      "INFO:tensorflow:global_step/sec: 827.746\n",
      "INFO:tensorflow:loss = 0.03997571, step = 6701 (0.126 sec)\n",
      "INFO:tensorflow:global_step/sec: 745.005\n",
      "INFO:tensorflow:loss = 0.20286335, step = 6801 (0.133 sec)\n",
      "INFO:tensorflow:global_step/sec: 789.045\n",
      "INFO:tensorflow:loss = 0.19874054, step = 6901 (0.122 sec)\n",
      "INFO:tensorflow:global_step/sec: 741.454\n",
      "INFO:tensorflow:loss = 0.09333585, step = 7001 (0.138 sec)\n",
      "INFO:tensorflow:global_step/sec: 708.198\n",
      "INFO:tensorflow:loss = 0.21963185, step = 7101 (0.140 sec)\n",
      "INFO:tensorflow:global_step/sec: 718.518\n",
      "INFO:tensorflow:loss = 0.48580915, step = 7201 (0.140 sec)\n"
     ]
    },
    {
     "name": "stdout",
     "output_type": "stream",
     "text": [
      "INFO:tensorflow:global_step/sec: 742.608\n",
      "INFO:tensorflow:loss = 0.050909493, step = 7301 (0.133 sec)\n",
      "INFO:tensorflow:global_step/sec: 552.459\n",
      "INFO:tensorflow:loss = 0.040611994, step = 7401 (0.181 sec)\n",
      "INFO:tensorflow:global_step/sec: 647.143\n",
      "INFO:tensorflow:loss = 0.111944094, step = 7501 (0.155 sec)\n",
      "INFO:tensorflow:global_step/sec: 662.476\n",
      "INFO:tensorflow:loss = 0.025564589, step = 7601 (0.152 sec)\n",
      "INFO:tensorflow:global_step/sec: 610.318\n",
      "INFO:tensorflow:loss = 0.07933058, step = 7701 (0.166 sec)\n",
      "INFO:tensorflow:global_step/sec: 591.851\n",
      "INFO:tensorflow:loss = 0.20303443, step = 7801 (0.166 sec)\n",
      "INFO:tensorflow:global_step/sec: 675.954\n",
      "INFO:tensorflow:loss = 0.2682685, step = 7901 (0.151 sec)\n",
      "INFO:tensorflow:global_step/sec: 678.021\n",
      "INFO:tensorflow:loss = 0.016357737, step = 8001 (0.143 sec)\n",
      "INFO:tensorflow:global_step/sec: 652.62\n",
      "INFO:tensorflow:loss = 0.20829433, step = 8101 (0.157 sec)\n",
      "INFO:tensorflow:global_step/sec: 645.14\n",
      "INFO:tensorflow:loss = 0.060338184, step = 8201 (0.152 sec)\n",
      "INFO:tensorflow:global_step/sec: 552.852\n",
      "INFO:tensorflow:loss = 0.04614319, step = 8301 (0.180 sec)\n",
      "INFO:tensorflow:global_step/sec: 1002.41\n",
      "INFO:tensorflow:loss = 0.053634666, step = 8401 (0.099 sec)\n",
      "INFO:tensorflow:Saving checkpoints for 8500 into C:\\Users\\ruma\\AppData\\Local\\Temp\\tmp8d6kizei\\model.ckpt.\n",
      "INFO:tensorflow:Loss for final step: 0.07159051.\n"
     ]
    },
    {
     "data": {
      "text/plain": [
       "LinearRegressor(params={'head': <tensorflow.contrib.learn.python.learn.estimators.head._RegressionHead object at 0x0000018804D54F60>, 'feature_columns': [_RealValuedColumn(column_name='X', dimension=1, default_value=None, dtype=tf.float32, normalizer=None)], 'optimizer': None, 'gradient_clip_norm': None, 'joint_weights': False})"
      ]
     },
     "execution_count": 7,
     "metadata": {},
     "output_type": "execute_result"
    }
   ],
   "source": [
    "# fit training data into estimator \n",
    "estimator.fit(input_fn=input_fn) "
   ]
  },
  {
   "cell_type": "code",
   "execution_count": 8,
   "metadata": {},
   "outputs": [
    {
     "name": "stdout",
     "output_type": "stream",
     "text": [
      "W: 0.24824563 \tb: 0.8006907\n"
     ]
    }
   ],
   "source": [
    "# print value of weight and bias \n",
    "W = estimator.get_variable_value('linear/X/weight')[0][0] \n",
    "b = estimator.get_variable_value('linear/bias_weight')[0] \n",
    "print(\"W:\", W, \"\\tb:\", b)"
   ]
  },
  {
   "cell_type": "code",
   "execution_count": 9,
   "metadata": {},
   "outputs": [
    {
     "name": "stdout",
     "output_type": "stream",
     "text": [
      "INFO:tensorflow:Starting evaluation at 2019-02-05-19:15:40\n",
      "INFO:tensorflow:Graph was finalized.\n",
      "INFO:tensorflow:Restoring parameters from C:\\Users\\ruma\\AppData\\Local\\Temp\\tmp8d6kizei\\model.ckpt-8500\n",
      "INFO:tensorflow:Running local_init_op.\n",
      "INFO:tensorflow:Done running local_init_op.\n",
      "INFO:tensorflow:Finished evaluation at 2019-02-05-19:15:50\n",
      "INFO:tensorflow:Saving dict for global step 8500: global_step = 8500, loss = 0.15429027\n",
      "INFO:tensorflow:Starting evaluation at 2019-02-05-19:15:52\n",
      "INFO:tensorflow:Graph was finalized.\n",
      "INFO:tensorflow:Restoring parameters from C:\\Users\\ruma\\AppData\\Local\\Temp\\tmp8d6kizei\\model.ckpt-8500\n",
      "INFO:tensorflow:Running local_init_op.\n",
      "INFO:tensorflow:Done running local_init_op.\n",
      "INFO:tensorflow:Finished evaluation at 2019-02-05-19:15:53\n",
      "INFO:tensorflow:Saving dict for global step 8500: global_step = 8500, loss = 0.159675\n",
      "Final training loss: 0.15429027\n",
      "Final testing loss: 0.159675\n"
     ]
    }
   ],
   "source": [
    "# evaluating the final loss \n",
    "train_loss = estimator.evaluate(input_fn=input_fn)['loss'] \n",
    "test_loss = estimator.evaluate(input_fn=test_input_fn)['loss'] \n",
    "print(\"Final training loss:\", train_loss) \n",
    "print(\"Final testing loss:\", test_loss) "
   ]
  },
  {
   "cell_type": "code",
   "execution_count": null,
   "metadata": {},
   "outputs": [],
   "source": []
  }
 ],
 "metadata": {
  "kernelspec": {
   "display_name": "Python 3",
   "language": "python",
   "name": "python3"
  },
  "language_info": {
   "codemirror_mode": {
    "name": "ipython",
    "version": 3
   },
   "file_extension": ".py",
   "mimetype": "text/x-python",
   "name": "python",
   "nbconvert_exporter": "python",
   "pygments_lexer": "ipython3",
   "version": "3.6.4"
  }
 },
 "nbformat": 4,
 "nbformat_minor": 2
}
