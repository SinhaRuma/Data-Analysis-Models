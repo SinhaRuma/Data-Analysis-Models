{
 "cells": [
  {
   "cell_type": "code",
   "execution_count": 2,
   "metadata": {},
   "outputs": [
    {
     "name": "stderr",
     "output_type": "stream",
     "text": [
      "C:\\Users\\ruma\\Anaconda3\\lib\\site-packages\\h5py\\__init__.py:36: FutureWarning: Conversion of the second argument of issubdtype from `float` to `np.floating` is deprecated. In future, it will be treated as `np.float64 == np.dtype(float).type`.\n",
      "  from ._conv import register_converters as _register_converters\n"
     ]
    }
   ],
   "source": [
    "import tensorflow as tf\n",
    "import numpy as np\n",
    "import matplotlib.pyplot as plt"
   ]
  },
  {
   "cell_type": "code",
   "execution_count": 3,
   "metadata": {},
   "outputs": [],
   "source": [
    "# Model Parameters\n",
    "learning_rate = 0.01\n",
    "training_epochs = 2000\n",
    "display_step = 200"
   ]
  },
  {
   "cell_type": "code",
   "execution_count": 4,
   "metadata": {},
   "outputs": [],
   "source": [
    "# Training Data \n",
    "train_X = np.asarray([3.3,4.4,5.5,6.71,6.93,4.168,9.779,6.182,7.59,2.167, \n",
    "                         7.042,10.791,5.313,7.997,5.654,9.27,3.1]) \n",
    "train_y = np.asarray([1.7,2.76,2.09,3.19,1.694,1.573,3.366,2.596,2.53,1.221, \n",
    "                         2.827,3.465,1.65,2.904,2.42,2.94,1.3]) \n",
    "n_samples = train_X.shape[0] "
   ]
  },
  {
   "cell_type": "code",
   "execution_count": 5,
   "metadata": {},
   "outputs": [],
   "source": [
    "# Test Data \n",
    "test_X = np.asarray([6.83, 4.668, 8.9, 7.91, 5.7, 8.7, 3.1, 2.1]) \n",
    "test_y = np.asarray([1.84, 2.273, 3.2, 2.831, 2.92, 3.24, 1.35, 1.03]) \n",
    "  "
   ]
  },
  {
   "cell_type": "code",
   "execution_count": 6,
   "metadata": {},
   "outputs": [],
   "source": [
    "# Set placeholders for feature and target vectors \n",
    "X = tf.placeholder(tf.float32) \n",
    "y = tf.placeholder(tf.float32) "
   ]
  },
  {
   "cell_type": "code",
   "execution_count": 7,
   "metadata": {},
   "outputs": [],
   "source": [
    "# Set model weights and bias \n",
    "W = tf.Variable(np.random.randn(), name=\"weight\") \n",
    "b = tf.Variable(np.random.randn(), name=\"bias\") "
   ]
  },
  {
   "cell_type": "code",
   "execution_count": 8,
   "metadata": {},
   "outputs": [],
   "source": [
    "# Construct a linear model \n",
    "linear_model = W*X + b "
   ]
  },
  {
   "cell_type": "code",
   "execution_count": 9,
   "metadata": {},
   "outputs": [],
   "source": [
    "# Mean squared error \n",
    "cost = tf.reduce_sum(tf.square(linear_model - y)) / (2*n_samples) "
   ]
  },
  {
   "cell_type": "code",
   "execution_count": 10,
   "metadata": {},
   "outputs": [],
   "source": [
    "# Gradient descent \n",
    "optimizer = tf.train.GradientDescentOptimizer(learning_rate).minimize(cost) \n",
    "  "
   ]
  },
  {
   "cell_type": "code",
   "execution_count": 11,
   "metadata": {},
   "outputs": [],
   "source": [
    "# Initializing the variables \n",
    "init = tf.global_variables_initializer() "
   ]
  },
  {
   "cell_type": "code",
   "execution_count": 28,
   "metadata": {},
   "outputs": [
    {
     "name": "stdout",
     "output_type": "stream",
     "text": [
      "Epoch:   200 \t Cost:   0.07714 \t W:0.2598 \t b:0.7407\n",
      "Epoch:   400 \t Cost:   0.07706 \t W:0.2581 \t b:0.7532\n",
      "Epoch:   600 \t Cost:   0.07701 \t W:0.2567 \t b: 0.763\n",
      "Epoch:   800 \t Cost:   0.07698 \t W:0.2556 \t b:0.7708\n",
      "Epoch:  1000 \t Cost:   0.07696 \t W:0.2547 \t b:0.7768\n",
      "Epoch:  1200 \t Cost:   0.07695 \t W:0.2541 \t b:0.7815\n",
      "Epoch:  1400 \t Cost:   0.07694 \t W:0.2535 \t b:0.7853\n",
      "Epoch:  1600 \t Cost:   0.07694 \t W:0.2531 \t b:0.7882\n",
      "Epoch:  1800 \t Cost:   0.07693 \t W:0.2528 \t b:0.7905\n",
      "Epoch:  2000 \t Cost:   0.07693 \t W:0.2526 \t b:0.7923\n",
      "Optimization Finished!\n",
      "Final training cost: 0.07693148 W: 0.25255594 b: 0.79227173 \n",
      "\n"
     ]
    },
    {
     "data": {
      "image/png": "[encoded data removed]",
      "text/plain": [
       "<matplotlib.figure.Figure at 0x2216d180748>"
      ]
     },
     "metadata": {},
     "output_type": "display_data"
    },
    {
     "name": "stdout",
     "output_type": "stream",
     "text": [
      "Final testing cost: 0.0781035\n",
      "Absolute mean square loss difference: 0.001172021\n"
     ]
    },
    {
     "data": {
      "image/png": "[encoded data removed]",
      "text/plain": [
       "<matplotlib.figure.Figure at 0x2216d1e9588>"
      ]
     },
     "metadata": {},
     "output_type": "display_data"
    }
   ],
   "source": [
    "# Launch the graph \n",
    "with tf.Session() as sess: \n",
    "    # Load initialized variables in current session \n",
    "    sess.run(init) \n",
    "  \n",
    "    # Fit all training data \n",
    "    for epoch in range(training_epochs): \n",
    "  \n",
    "        # perform gradient descent step \n",
    "        sess.run(optimizer, feed_dict={X: train_X, y: train_y}) \n",
    "          \n",
    "        # Display logs per epoch step \n",
    "        if (epoch+1) % display_step == 0: \n",
    "            c = sess.run(cost, feed_dict={X: train_X, y: train_y}) \n",
    "            print(\"Epoch:{0:6} \\t Cost:{1:10.4} \\t W:{2:6.4} \\t b:{3:6.4}\". \n",
    "                  format(epoch+1, c, sess.run(W), sess.run(b))) \n",
    "              \n",
    "    # Print final parameter values \n",
    "    print(\"Optimization Finished!\") \n",
    "    training_cost = sess.run(cost, feed_dict={X: train_X, y: train_y}) \n",
    "    print(\"Final training cost:\", training_cost, \"W:\", sess.run(W), \"b:\",  \n",
    "          sess.run(b), '\\n') \n",
    "      \n",
    "    # Graphic display \n",
    "    plt.plot(train_X, train_y, 'ro', label='Original data') \n",
    "    plt.plot(train_X, sess.run(W) * train_X + sess.run(b), label='Fitted line') \n",
    "    plt.legend() \n",
    "    plt.show() \n",
    "  \n",
    "    # Testing the model \n",
    "    testing_cost = sess.run(tf.reduce_sum(tf.square(linear_model - y)) / (2 * test_X.shape[0]), \n",
    "                            feed_dict={X: test_X, y: test_y}) \n",
    "      \n",
    "    print(\"Final testing cost:\", testing_cost) \n",
    "    print(\"Absolute mean square loss difference:\", abs(training_cost - testing_cost)) \n",
    "  \n",
    "    # Display fitted line on test data \n",
    "    plt.plot(test_X, test_y, 'bo', label='Testing data') \n",
    "    plt.plot(train_X, sess.run(W) * train_X + sess.run(b), label='Fitted line') \n",
    "    plt.legend() \n",
    "    plt.show() \n"
   ]
  }
 ],
 "metadata": {
  "kernelspec": {
   "display_name": "Python 3",
   "language": "python",
   "name": "python3"
  },
  "language_info": {
   "codemirror_mode": {
    "name": "ipython",
    "version": 3
   },
   "file_extension": ".py",
   "mimetype": "text/x-python",
   "name": "python",
   "nbconvert_exporter": "python",
   "pygments_lexer": "ipython3",
   "version": "3.6.4"
  }
 },
 "nbformat": 4,
 "nbformat_minor": 2
}
